{
 "cells": [
  {
   "cell_type": "code",
   "execution_count": 4,
   "id": "c23461f3",
   "metadata": {},
   "outputs": [],
   "source": [
    "import pandas as pd\n",
    "import numpy as np\n",
    "import dask.dataframe as dd\n",
    "from dask.distributed import Client, LocalCluster # Optional: for Dask dashboard\n",
    "import matplotlib.pyplot as plt\n",
    "import seaborn as sns\n",
    "from pathlib import Path\n",
    "import time # To time computations\n",
    "import random\n",
    "import sys"
   ]
  },
  {
   "cell_type": "code",
   "execution_count": 5,
   "id": "35a1f9a9",
   "metadata": {},
   "outputs": [
    {
     "name": "stdout",
     "output_type": "stream",
     "text": [
      "Added project root to sys.path: /Users/kozy/_projects/Dataviz-VAST2022\n",
      "Initial CWD: /Users/kozy/_projects/Dataviz-VAST2022/notebooks\n",
      "Adjusted BASE_DIR to parent (project root): /Users/kozy/_projects/Dataviz-VAST2022\n"
     ]
    }
   ],
   "source": [
    "project_root = Path.cwd().parent\n",
    "\n",
    "if str(project_root) not in sys.path:\n",
    "    sys.path.append(str(project_root))\n",
    "    print(f\"Added project root to sys.path: {project_root}\")\n",
    "else:\n",
    "    print(\"Project root already in sys.path.\")\n",
    "\n",
    "current_dir = Path.cwd()\n",
    "print(f\"Initial CWD: {current_dir}\")\n",
    "if current_dir.name == 'notebooks':\n",
    "    BASE_DIR = current_dir.parent\n",
    "    print(f\"Adjusted BASE_DIR to parent (project root): {BASE_DIR}\")\n",
    "# Check if the current directory *already* looks like the project root\n",
    "elif (current_dir / 'src').is_dir() and (current_dir / 'notebooks').is_dir() and (current_dir / 'data').is_dir():\n",
    "    BASE_DIR = current_dir\n",
    "    print(f\"CWD appears to be project root: {BASE_DIR}\")\n",
    "else:\n",
    "    # Fallback or Warning - might need manual adjustment if structure is unexpected\n",
    "    BASE_DIR = current_dir\n",
    "    print(f\"WARNING: Could not reliably determine project root relative to CWD.\")\n",
    "    print(f\"Using CWD as BASE_DIR: {BASE_DIR}. Check if paths below are correct.\")\n",
    "    # You might need to adjust manually here if the above checks fail, e.g.\n",
    "    # BASE_DIR = Path('/absolute/path/to/your/Dataviz-VAST2022')"
   ]
  },
  {
   "cell_type": "code",
   "execution_count": 6,
   "id": "0d42b4b3",
   "metadata": {},
   "outputs": [
    {
     "name": "stdout",
     "output_type": "stream",
     "text": [
      "Successfully imported functions from src.\n"
     ]
    }
   ],
   "source": [
    "try:\n",
    "    # We might not need load_data functions if loading primary/processed directly\n",
    "    # from src.data.load_data import ...\n",
    "    # We might not need build_features functions if primary data is complete\n",
    "    # from src.features.build_features import ...\n",
    "    # We WILL need visualization functions\n",
    "    from src.visualization.visualize import (\n",
    "        plot_balance_distribution, # Keep for reference if needed\n",
    "        # --- Add imports for NEW comparison functions once created ---\n",
    "        # plot_comparative_balance_timeline,\n",
    "        # plot_comparative_activity_heatmap,\n",
    "        # plot_comparative_spending_category\n",
    "    )\n",
    "    print(\"Successfully imported functions from src.\")\n",
    "    # Add placeholder functions locally in notebook until they exist in src\n",
    "    def plot_comparative_balance_timeline(*args, **kwargs): print(\"Placeholder: plot_comparative_balance_timeline called\")\n",
    "    def plot_comparative_activity_heatmap(*args, **kwargs): print(\"Placeholder: plot_comparative_activity_heatmap called\")\n",
    "    def plot_comparative_spending_category(*args, **kwargs): print(\"Placeholder: plot_comparative_spending_category called\")\n",
    "\n",
    "except ImportError as e:\n",
    "    print(f\"Error importing from src: {e}. Make sure src is importable.\")\n",
    "    print(\"Define placeholder functions locally.\")\n",
    "    def plot_balance_distribution(*args, **kwargs): print(\"Placeholder: plot_balance_distribution called\")\n",
    "    def plot_comparative_balance_timeline(*args, **kwargs): print(\"Placeholder: plot_comparative_balance_timeline called\")\n",
    "    def plot_comparative_activity_heatmap(*args, **kwargs): print(\"Placeholder: plot_comparative_activity_heatmap called\")\n",
    "    def plot_comparative_spending_category(*args, **kwargs): print(\"Placeholder: plot_comparative_spending_category called\")\n",
    "\n"
   ]
  }
 ],
 "metadata": {
  "kernelspec": {
   "display_name": "dataviz-env",
   "language": "python",
   "name": "python3"
  },
  "language_info": {
   "codemirror_mode": {
    "name": "ipython",
    "version": 3
   },
   "file_extension": ".py",
   "mimetype": "text/x-python",
   "name": "python",
   "nbconvert_exporter": "python",
   "pygments_lexer": "ipython3",
   "version": "3.10.13"
  }
 },
 "nbformat": 4,
 "nbformat_minor": 5
}
