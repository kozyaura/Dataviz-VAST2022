{
 "cells": [
  {
   "cell_type": "code",
   "execution_count": 1,
   "id": "7489ddab",
   "metadata": {},
   "outputs": [],
   "source": [
    "import pandas as pd\n",
    "import numpy as np\n",
    "import dask.dataframe as dd\n",
    "from dask.distributed import Client, LocalCluster # Optional: for Dask dashboard\n",
    "import matplotlib.pyplot as plt\n",
    "import seaborn as sns\n",
    "from pathlib import Path\n",
    "import time # To time the Dask computation\n",
    "import logging # Optional: Configure logging if src modules use it\n",
    "import sys\n",
    "from pathlib import Path"
   ]
  },
  {
   "cell_type": "code",
   "execution_count": 2,
   "id": "85f80529",
   "metadata": {},
   "outputs": [
    {
     "name": "stdout",
     "output_type": "stream",
     "text": [
      "Added project root to sys.path: /Users/kozy/_projects/Dataviz-VAST2022\n",
      "Initial CWD: /Users/kozy/_projects/Dataviz-VAST2022/notebooks\n",
      "Adjusted BASE_DIR to parent (project root): /Users/kozy/_projects/Dataviz-VAST2022\n"
     ]
    }
   ],
   "source": [
    "project_root = Path.cwd().parent\n",
    "\n",
    "if str(project_root) not in sys.path:\n",
    "    sys.path.append(str(project_root))\n",
    "    print(f\"Added project root to sys.path: {project_root}\")\n",
    "else:\n",
    "    print(\"Project root already in sys.path.\")\n",
    "\n",
    "current_dir = Path.cwd()\n",
    "print(f\"Initial CWD: {current_dir}\")\n",
    "if current_dir.name == 'notebooks':\n",
    "    BASE_DIR = current_dir.parent\n",
    "    print(f\"Adjusted BASE_DIR to parent (project root): {BASE_DIR}\")\n",
    "# Check if the current directory *already* looks like the project root\n",
    "elif (current_dir / 'src').is_dir() and (current_dir / 'notebooks').is_dir() and (current_dir / 'data').is_dir():\n",
    "    BASE_DIR = current_dir\n",
    "    print(f\"CWD appears to be project root: {BASE_DIR}\")\n",
    "else:\n",
    "    # Fallback or Warning - might need manual adjustment if structure is unexpected\n",
    "    BASE_DIR = current_dir\n",
    "    print(f\"WARNING: Could not reliably determine project root relative to CWD.\")\n",
    "    print(f\"Using CWD as BASE_DIR: {BASE_DIR}. Check if paths below are correct.\")\n",
    "    # You might need to adjust manually here if the above checks fail, e.g.\n",
    "    # BASE_DIR = Path('/absolute/path/to/your/Dataviz-VAST2022')\n"
   ]
  },
  {
   "cell_type": "code",
   "execution_count": 3,
   "id": "e094feb0",
   "metadata": {},
   "outputs": [
    {
     "name": "stdout",
     "output_type": "stream",
     "text": [
      "Successfully imported functions from src.\n"
     ]
    }
   ],
   "source": [
    "try:\n",
    "    from src.data.load_data import load_participants\n",
    "    from src.features.build_features import add_financial_group\n",
    "    from src.visualization.visualize import plot_balance_distribution\n",
    "    print(\"Successfully imported functions from src.\")\n",
    "except ImportError as e:\n",
    "    print(f\"Error importing from src: {e}\")\n",
    "    print(\"Ensure the project root directory is in your Python path or adjust sys.path.\")"
   ]
  },
  {
   "cell_type": "code",
   "execution_count": 4,
   "id": "56bd731e",
   "metadata": {},
   "outputs": [
    {
     "name": "stdout",
     "output_type": "stream",
     "text": [
      "\n",
      "Using Project Root (BASE_DIR): /Users/kozy/_projects/Dataviz-VAST2022\n",
      "Raw Data Directory: /Users/kozy/_projects/Dataviz-VAST2022/data/raw\n",
      "Looking for Participants file at: /Users/kozy/_projects/Dataviz-VAST2022/data/raw/Attributes/Participants.csv\n",
      "Does Participants file exist? True\n",
      "Does Logs directory exist? True\n",
      "Does Journals directory exist? True\n"
     ]
    }
   ],
   "source": [
    "# --- Define other paths relative to the determined BASE_DIR ---\n",
    "DATA_DIR = BASE_DIR / 'data'\n",
    "RAW_DATA_DIR = DATA_DIR / 'raw' # Use 'raw' based on your tree structure\n",
    "\n",
    "LOGS_DIR = RAW_DATA_DIR / 'Activity Logs'\n",
    "ATTR_DIR = RAW_DATA_DIR / 'Attributes'\n",
    "JOURNAL_DIR = RAW_DATA_DIR / 'Journals'\n",
    "\n",
    "PRIMARY_DATA_DIR = DATA_DIR / '03_primary'\n",
    "REPORTS_DIR = BASE_DIR / 'reports' / 'figures'\n",
    "\n",
    "# Create output directories if they don't exist\n",
    "PRIMARY_DATA_DIR.mkdir(parents=True, exist_ok=True)\n",
    "REPORTS_DIR.mkdir(parents=True, exist_ok=True)\n",
    "\n",
    "# --- Verification ---\n",
    "print(f\"\\nUsing Project Root (BASE_DIR): {BASE_DIR.resolve()}\")\n",
    "print(f\"Raw Data Directory: {RAW_DATA_DIR}\")\n",
    "print(f\"Looking for Participants file at: {ATTR_DIR / 'Participants.csv'}\")\n",
    "print(f\"Does Participants file exist? {(ATTR_DIR / 'Participants.csv').exists()}\") # Verify check\n",
    "print(f\"Does Logs directory exist? {LOGS_DIR.exists()}\")\n",
    "print(f\"Does Journals directory exist? {JOURNAL_DIR.exists()}\")"
   ]
  },
  {
   "cell_type": "code",
   "execution_count": 5,
   "id": "9fd5205a",
   "metadata": {},
   "outputs": [
    {
     "name": "stdout",
     "output_type": "stream",
     "text": [
      "Dask Client Setup Complete.\n",
      "Dask dashboard link: http://127.0.0.1:8787/status\n"
     ]
    }
   ],
   "source": [
    "cluster = LocalCluster(n_workers=4, threads_per_worker=2, memory_limit='4GB') # Example config\n",
    "client = Client(cluster)\n",
    "print(\"Dask Client Setup Complete.\")\n",
    "print(f\"Dask dashboard link: {client.dashboard_link}\")"
   ]
  },
  {
   "cell_type": "code",
   "execution_count": 6,
   "id": "ae09f621",
   "metadata": {},
   "outputs": [
    {
     "name": "stderr",
     "output_type": "stream",
     "text": [
      "2025-04-17 20:01:05,942 - INFO - load_data - Attempting to load participants file: /Users/kozy/_projects/Dataviz-VAST2022/data/raw/Attributes/Participants.csv\n",
      "2025-04-17 20:01:05,946 - INFO - load_data - Successfully loaded and performed basic checks on Participants data. Shape: (1011, 7)\n"
     ]
    },
    {
     "name": "stdout",
     "output_type": "stream",
     "text": [
      "\n",
      "Participants Data Sample:\n"
     ]
    },
    {
     "data": {
      "text/html": [
       "<div>\n",
       "<style scoped>\n",
       "    .dataframe tbody tr th:only-of-type {\n",
       "        vertical-align: middle;\n",
       "    }\n",
       "\n",
       "    .dataframe tbody tr th {\n",
       "        vertical-align: top;\n",
       "    }\n",
       "\n",
       "    .dataframe thead th {\n",
       "        text-align: right;\n",
       "    }\n",
       "</style>\n",
       "<table border=\"1\" class=\"dataframe\">\n",
       "  <thead>\n",
       "    <tr style=\"text-align: right;\">\n",
       "      <th></th>\n",
       "      <th>participantId</th>\n",
       "      <th>householdSize</th>\n",
       "      <th>haveKids</th>\n",
       "      <th>age</th>\n",
       "      <th>educationLevel</th>\n",
       "      <th>interestGroup</th>\n",
       "      <th>joviality</th>\n",
       "    </tr>\n",
       "  </thead>\n",
       "  <tbody>\n",
       "    <tr>\n",
       "      <th>0</th>\n",
       "      <td>0</td>\n",
       "      <td>3</td>\n",
       "      <td>True</td>\n",
       "      <td>36</td>\n",
       "      <td>HighSchoolOrCollege</td>\n",
       "      <td>H</td>\n",
       "      <td>0.001627</td>\n",
       "    </tr>\n",
       "    <tr>\n",
       "      <th>1</th>\n",
       "      <td>1</td>\n",
       "      <td>3</td>\n",
       "      <td>True</td>\n",
       "      <td>25</td>\n",
       "      <td>HighSchoolOrCollege</td>\n",
       "      <td>B</td>\n",
       "      <td>0.328087</td>\n",
       "    </tr>\n",
       "    <tr>\n",
       "      <th>2</th>\n",
       "      <td>2</td>\n",
       "      <td>3</td>\n",
       "      <td>True</td>\n",
       "      <td>35</td>\n",
       "      <td>HighSchoolOrCollege</td>\n",
       "      <td>A</td>\n",
       "      <td>0.393470</td>\n",
       "    </tr>\n",
       "    <tr>\n",
       "      <th>3</th>\n",
       "      <td>3</td>\n",
       "      <td>3</td>\n",
       "      <td>True</td>\n",
       "      <td>21</td>\n",
       "      <td>HighSchoolOrCollege</td>\n",
       "      <td>I</td>\n",
       "      <td>0.138063</td>\n",
       "    </tr>\n",
       "    <tr>\n",
       "      <th>4</th>\n",
       "      <td>4</td>\n",
       "      <td>3</td>\n",
       "      <td>True</td>\n",
       "      <td>43</td>\n",
       "      <td>Bachelors</td>\n",
       "      <td>H</td>\n",
       "      <td>0.857397</td>\n",
       "    </tr>\n",
       "  </tbody>\n",
       "</table>\n",
       "</div>"
      ],
      "text/plain": [
       "   participantId  householdSize  haveKids  age       educationLevel  \\\n",
       "0              0              3      True   36  HighSchoolOrCollege   \n",
       "1              1              3      True   25  HighSchoolOrCollege   \n",
       "2              2              3      True   35  HighSchoolOrCollege   \n",
       "3              3              3      True   21  HighSchoolOrCollege   \n",
       "4              4              3      True   43            Bachelors   \n",
       "\n",
       "  interestGroup  joviality  \n",
       "0             H   0.001627  \n",
       "1             B   0.328087  \n",
       "2             A   0.393470  \n",
       "3             I   0.138063  \n",
       "4             H   0.857397  "
      ]
     },
     "metadata": {},
     "output_type": "display_data"
    },
    {
     "name": "stdout",
     "output_type": "stream",
     "text": [
      "<class 'pandas.core.frame.DataFrame'>\n",
      "RangeIndex: 1011 entries, 0 to 1010\n",
      "Data columns (total 7 columns):\n",
      " #   Column          Non-Null Count  Dtype  \n",
      "---  ------          --------------  -----  \n",
      " 0   participantId   1011 non-null   Int64  \n",
      " 1   householdSize   1011 non-null   int64  \n",
      " 2   haveKids        1011 non-null   bool   \n",
      " 3   age             1011 non-null   int64  \n",
      " 4   educationLevel  1011 non-null   object \n",
      " 5   interestGroup   1011 non-null   object \n",
      " 6   joviality       1011 non-null   float64\n",
      "dtypes: Int64(1), bool(1), float64(1), int64(2), object(2)\n",
      "memory usage: 49.5+ KB\n"
     ]
    }
   ],
   "source": [
    "participants_df = load_participants(ATTR_DIR)\n",
    "\n",
    "if participants_df.empty:\n",
    "    print(\"ERROR: Participants DataFrame is empty. Cannot proceed.\")\n",
    "    # Stop execution or raise error if critical\n",
    "else:\n",
    "    print(\"\\nParticipants Data Sample:\")\n",
    "    display(participants_df.head())\n",
    "    participants_df.info()\n"
   ]
  },
  {
   "cell_type": "code",
   "execution_count": 7,
   "id": "472052e7",
   "metadata": {},
   "outputs": [
    {
     "name": "stdout",
     "output_type": "stream",
     "text": [
      "Defining Dask DataFrame for all logs...\n"
     ]
    }
   ],
   "source": [
    "# 5. Load Logs Data\n",
    "log_dtypes = {\n",
    "    'participantId': 'Int64',\n",
    "    'apartmentId': 'Int64',\n",
    "    'jobId': 'Int64', # Dask might handle N/A better with object, or use float64 if appropriate\n",
    "    'availableBalance': 'float64',\n",
    "    'dailyFoodBudget': 'float64',\n",
    "    'weeklyExtraBudget': 'float64',\n",
    "    'currentMode': 'category', # Use category for repeated strings\n",
    "    'hungerStatus': 'category',\n",
    "    'sleepStatus': 'category',\n",
    "    'financialStatus': 'category'\n",
    "    # 'currentLocation' will be object (string)\n",
    "}\n",
    "\n",
    "print(\"Defining Dask DataFrame for all logs...\")"
   ]
  },
  {
   "cell_type": "code",
   "execution_count": 8,
   "id": "bd44b149",
   "metadata": {},
   "outputs": [
    {
     "name": "stdout",
     "output_type": "stream",
     "text": [
      "\n",
      "Number of partitions: 214\n",
      "\n",
      "Dask DataFrame dtypes:\n",
      "timestamp            datetime64[ns, UTC]\n",
      "currentLocation          string[pyarrow]\n",
      "participantId                      Int64\n",
      "currentMode                     category\n",
      "hungerStatus                    category\n",
      "sleepStatus                     category\n",
      "apartmentId                        Int64\n",
      "availableBalance                 float64\n",
      "jobId                              Int64\n",
      "financialStatus                 category\n",
      "dailyFoodBudget                  float64\n",
      "weeklyExtraBudget                float64\n",
      "dtype: object\n",
      "\n",
      "Sample from Dask DataFrame head:\n"
     ]
    },
    {
     "data": {
      "text/html": [
       "<div>\n",
       "<style scoped>\n",
       "    .dataframe tbody tr th:only-of-type {\n",
       "        vertical-align: middle;\n",
       "    }\n",
       "\n",
       "    .dataframe tbody tr th {\n",
       "        vertical-align: top;\n",
       "    }\n",
       "\n",
       "    .dataframe thead th {\n",
       "        text-align: right;\n",
       "    }\n",
       "</style>\n",
       "<table border=\"1\" class=\"dataframe\">\n",
       "  <thead>\n",
       "    <tr style=\"text-align: right;\">\n",
       "      <th></th>\n",
       "      <th>timestamp</th>\n",
       "      <th>currentLocation</th>\n",
       "      <th>participantId</th>\n",
       "      <th>currentMode</th>\n",
       "      <th>hungerStatus</th>\n",
       "      <th>sleepStatus</th>\n",
       "      <th>apartmentId</th>\n",
       "      <th>availableBalance</th>\n",
       "      <th>jobId</th>\n",
       "      <th>financialStatus</th>\n",
       "      <th>dailyFoodBudget</th>\n",
       "      <th>weeklyExtraBudget</th>\n",
       "    </tr>\n",
       "  </thead>\n",
       "  <tbody>\n",
       "    <tr>\n",
       "      <th>0</th>\n",
       "      <td>2022-03-01 00:00:00+00:00</td>\n",
       "      <td>POINT (-2724.6277665310454 6866.2081834436985)</td>\n",
       "      <td>0</td>\n",
       "      <td>AtHome</td>\n",
       "      <td>JustAte</td>\n",
       "      <td>Sleeping</td>\n",
       "      <td>926</td>\n",
       "      <td>1286.519556</td>\n",
       "      <td>254</td>\n",
       "      <td>Stable</td>\n",
       "      <td>12.0</td>\n",
       "      <td>1104.302570</td>\n",
       "    </tr>\n",
       "    <tr>\n",
       "      <th>1</th>\n",
       "      <td>2022-03-01 00:00:00+00:00</td>\n",
       "      <td>POINT (-1526.9372331431534 5582.2951345645315)</td>\n",
       "      <td>1</td>\n",
       "      <td>AtHome</td>\n",
       "      <td>JustAte</td>\n",
       "      <td>Sleeping</td>\n",
       "      <td>928</td>\n",
       "      <td>860.574204</td>\n",
       "      <td>929</td>\n",
       "      <td>Stable</td>\n",
       "      <td>12.0</td>\n",
       "      <td>926.714377</td>\n",
       "    </tr>\n",
       "    <tr>\n",
       "      <th>2</th>\n",
       "      <td>2022-03-01 00:00:00+00:00</td>\n",
       "      <td>POINT (-1360.9905987829304 2108.804385379679)</td>\n",
       "      <td>2</td>\n",
       "      <td>AtHome</td>\n",
       "      <td>JustAte</td>\n",
       "      <td>Sleeping</td>\n",
       "      <td>291</td>\n",
       "      <td>1298.184541</td>\n",
       "      <td>348</td>\n",
       "      <td>Stable</td>\n",
       "      <td>16.0</td>\n",
       "      <td>848.802876</td>\n",
       "    </tr>\n",
       "    <tr>\n",
       "      <th>3</th>\n",
       "      <td>2022-03-01 00:00:00+00:00</td>\n",
       "      <td>POINT (-1558.517200825967 5600.664347152427)</td>\n",
       "      <td>3</td>\n",
       "      <td>AtHome</td>\n",
       "      <td>JustAte</td>\n",
       "      <td>Sleeping</td>\n",
       "      <td>1243</td>\n",
       "      <td>1180.641725</td>\n",
       "      <td>316</td>\n",
       "      <td>Stable</td>\n",
       "      <td>12.0</td>\n",
       "      <td>819.325405</td>\n",
       "    </tr>\n",
       "    <tr>\n",
       "      <th>4</th>\n",
       "      <td>2022-03-01 00:00:00+00:00</td>\n",
       "      <td>POINT (976.2409614204214 4574.575079082071)</td>\n",
       "      <td>4</td>\n",
       "      <td>AtHome</td>\n",
       "      <td>JustAte</td>\n",
       "      <td>Sleeping</td>\n",
       "      <td>194</td>\n",
       "      <td>-681.650588</td>\n",
       "      <td>177</td>\n",
       "      <td>Unstable</td>\n",
       "      <td>20.0</td>\n",
       "      <td>0.000000</td>\n",
       "    </tr>\n",
       "  </tbody>\n",
       "</table>\n",
       "</div>"
      ],
      "text/plain": [
       "                  timestamp                                 currentLocation  \\\n",
       "0 2022-03-01 00:00:00+00:00  POINT (-2724.6277665310454 6866.2081834436985)   \n",
       "1 2022-03-01 00:00:00+00:00  POINT (-1526.9372331431534 5582.2951345645315)   \n",
       "2 2022-03-01 00:00:00+00:00   POINT (-1360.9905987829304 2108.804385379679)   \n",
       "3 2022-03-01 00:00:00+00:00    POINT (-1558.517200825967 5600.664347152427)   \n",
       "4 2022-03-01 00:00:00+00:00     POINT (976.2409614204214 4574.575079082071)   \n",
       "\n",
       "   participantId currentMode hungerStatus sleepStatus  apartmentId  \\\n",
       "0              0      AtHome      JustAte    Sleeping          926   \n",
       "1              1      AtHome      JustAte    Sleeping          928   \n",
       "2              2      AtHome      JustAte    Sleeping          291   \n",
       "3              3      AtHome      JustAte    Sleeping         1243   \n",
       "4              4      AtHome      JustAte    Sleeping          194   \n",
       "\n",
       "   availableBalance  jobId financialStatus  dailyFoodBudget  weeklyExtraBudget  \n",
       "0       1286.519556    254          Stable             12.0        1104.302570  \n",
       "1        860.574204    929          Stable             12.0         926.714377  \n",
       "2       1298.184541    348          Stable             16.0         848.802876  \n",
       "3       1180.641725    316          Stable             12.0         819.325405  \n",
       "4       -681.650588    177        Unstable             20.0           0.000000  "
      ]
     },
     "metadata": {},
     "output_type": "display_data"
    }
   ],
   "source": [
    "# The '*' acts as a wildcard to match all log files\n",
    "logs_dd = dd.read_csv(\n",
    "    LOGS_DIR / 'ParticipantStatusLogs*.csv',\n",
    "    dtype=log_dtypes,\n",
    "    parse_dates=['timestamp'],\n",
    "    on_bad_lines='warn' # or 'skip' or 'error'\n",
    ")\n",
    "\n",
    "# Check the divisions (how Dask partitioned the data) and dtypes\n",
    "print(f\"\\nNumber of partitions: {logs_dd.npartitions}\")\n",
    "print(\"\\nDask DataFrame dtypes:\")\n",
    "print(logs_dd.dtypes)\n",
    "\n",
    "# Display a sample (computes only the first few rows of the first partition)\n",
    "print(\"\\nSample from Dask DataFrame head:\")\n",
    "display(logs_dd.head())"
   ]
  },
  {
   "cell_type": "code",
   "execution_count": 9,
   "id": "1fe6b7d6",
   "metadata": {},
   "outputs": [],
   "source": [
    "# 6. Calculate Average Balance (Dask Computation)\n"
   ]
  },
  {
   "cell_type": "code",
   "execution_count": 10,
   "id": "fda0f1ec",
   "metadata": {},
   "outputs": [
    {
     "name": "stdout",
     "output_type": "stream",
     "text": [
      "Calculating average balance across all logs using Dask...\n"
     ]
    },
    {
     "name": "stderr",
     "output_type": "stream",
     "text": [
      "2025-04-17 20:01:11,231 - distributed.shuffle._scheduler_plugin - WARNING - Shuffle 72dc0e9eda58b3dff2f7eb785a31ae57 initialized by task ('shuffle-transfer-72dc0e9eda58b3dff2f7eb785a31ae57', 42) executed on worker tcp://127.0.0.1:62383\n",
      "2025-04-17 20:02:40,691 - distributed.shuffle._scheduler_plugin - WARNING - Shuffle 72dc0e9eda58b3dff2f7eb785a31ae57 deactivated due to stimulus 'task-finished-1744891360.6903198'\n"
     ]
    },
    {
     "name": "stdout",
     "output_type": "stream",
     "text": [
      "\n",
      "Dask computation finished in 92.80 seconds.\n",
      "Calculated average balance for 1012 participants.\n",
      "\n",
      "Sample of computed average balances (Pandas Series):\n"
     ]
    },
    {
     "data": {
      "text/plain": [
       "participantId\n",
       "3     41213.248470\n",
       "7     29183.684991\n",
       "46    32376.352117\n",
       "52     5570.113454\n",
       "60    25210.880962\n",
       "Name: availableBalance, dtype: float64"
      ]
     },
     "metadata": {},
     "output_type": "display_data"
    },
    {
     "name": "stdout",
     "output_type": "stream",
     "text": [
      "\n",
      "Basic stats of computed average balances:\n"
     ]
    },
    {
     "data": {
      "text/plain": [
       "count      1011.000000\n",
       "mean      18842.000909\n",
       "std       17701.701581\n",
       "min         921.999578\n",
       "25%        5898.556498\n",
       "50%       14310.464940\n",
       "75%       25759.165685\n",
       "max      120775.235440\n",
       "Name: availableBalance, dtype: float64"
      ]
     },
     "metadata": {},
     "output_type": "display_data"
    }
   ],
   "source": [
    "print(\"Calculating average balance across all logs using Dask...\")\n",
    "start_time = time.time()\n",
    "\n",
    "# Define the computation graph\n",
    "avg_balance_dd = logs_dd.groupby('participantId')['availableBalance'].mean()\n",
    "\n",
    "# Trigger the computation\n",
    "# The result will be a Pandas Series indexed by participantId\n",
    "avg_balance_series = avg_balance_dd.compute()\n",
    "\n",
    "end_time = time.time()\n",
    "print(f\"\\nDask computation finished in {end_time - start_time:.2f} seconds.\")\n",
    "print(f\"Calculated average balance for {len(avg_balance_series)} participants.\")\n",
    "\n",
    "# Display sample results\n",
    "print(\"\\nSample of computed average balances (Pandas Series):\")\n",
    "display(avg_balance_series.head())\n",
    "print(\"\\nBasic stats of computed average balances:\")\n",
    "display(avg_balance_series.describe())"
   ]
  },
  {
   "cell_type": "code",
   "execution_count": 11,
   "id": "f5bd93b1",
   "metadata": {},
   "outputs": [
    {
     "name": "stdout",
     "output_type": "stream",
     "text": [
      "Merging computed balances with participant data...\n",
      "Created participant_summary_df with shape: (1011, 8)\n",
      "Checking for participants missing from logs (NaN averageBalance):\n",
      "0\n"
     ]
    },
    {
     "data": {
      "text/html": [
       "<div>\n",
       "<style scoped>\n",
       "    .dataframe tbody tr th:only-of-type {\n",
       "        vertical-align: middle;\n",
       "    }\n",
       "\n",
       "    .dataframe tbody tr th {\n",
       "        vertical-align: top;\n",
       "    }\n",
       "\n",
       "    .dataframe thead th {\n",
       "        text-align: right;\n",
       "    }\n",
       "</style>\n",
       "<table border=\"1\" class=\"dataframe\">\n",
       "  <thead>\n",
       "    <tr style=\"text-align: right;\">\n",
       "      <th></th>\n",
       "      <th>participantId</th>\n",
       "      <th>householdSize</th>\n",
       "      <th>haveKids</th>\n",
       "      <th>age</th>\n",
       "      <th>educationLevel</th>\n",
       "      <th>interestGroup</th>\n",
       "      <th>joviality</th>\n",
       "      <th>averageBalance</th>\n",
       "    </tr>\n",
       "  </thead>\n",
       "  <tbody>\n",
       "    <tr>\n",
       "      <th>0</th>\n",
       "      <td>0</td>\n",
       "      <td>3</td>\n",
       "      <td>True</td>\n",
       "      <td>36</td>\n",
       "      <td>HighSchoolOrCollege</td>\n",
       "      <td>H</td>\n",
       "      <td>0.001627</td>\n",
       "      <td>58665.701153</td>\n",
       "    </tr>\n",
       "    <tr>\n",
       "      <th>1</th>\n",
       "      <td>1</td>\n",
       "      <td>3</td>\n",
       "      <td>True</td>\n",
       "      <td>25</td>\n",
       "      <td>HighSchoolOrCollege</td>\n",
       "      <td>B</td>\n",
       "      <td>0.328087</td>\n",
       "      <td>48739.465046</td>\n",
       "    </tr>\n",
       "    <tr>\n",
       "      <th>2</th>\n",
       "      <td>2</td>\n",
       "      <td>3</td>\n",
       "      <td>True</td>\n",
       "      <td>35</td>\n",
       "      <td>HighSchoolOrCollege</td>\n",
       "      <td>A</td>\n",
       "      <td>0.393470</td>\n",
       "      <td>43597.414323</td>\n",
       "    </tr>\n",
       "    <tr>\n",
       "      <th>3</th>\n",
       "      <td>3</td>\n",
       "      <td>3</td>\n",
       "      <td>True</td>\n",
       "      <td>21</td>\n",
       "      <td>HighSchoolOrCollege</td>\n",
       "      <td>I</td>\n",
       "      <td>0.138063</td>\n",
       "      <td>41213.248470</td>\n",
       "    </tr>\n",
       "    <tr>\n",
       "      <th>4</th>\n",
       "      <td>4</td>\n",
       "      <td>3</td>\n",
       "      <td>True</td>\n",
       "      <td>43</td>\n",
       "      <td>Bachelors</td>\n",
       "      <td>H</td>\n",
       "      <td>0.857397</td>\n",
       "      <td>50405.268696</td>\n",
       "    </tr>\n",
       "  </tbody>\n",
       "</table>\n",
       "</div>"
      ],
      "text/plain": [
       "   participantId  householdSize  haveKids  age       educationLevel  \\\n",
       "0              0              3      True   36  HighSchoolOrCollege   \n",
       "1              1              3      True   25  HighSchoolOrCollege   \n",
       "2              2              3      True   35  HighSchoolOrCollege   \n",
       "3              3              3      True   21  HighSchoolOrCollege   \n",
       "4              4              3      True   43            Bachelors   \n",
       "\n",
       "  interestGroup  joviality  averageBalance  \n",
       "0             H   0.001627    58665.701153  \n",
       "1             B   0.328087    48739.465046  \n",
       "2             A   0.393470    43597.414323  \n",
       "3             I   0.138063    41213.248470  \n",
       "4             H   0.857397    50405.268696  "
      ]
     },
     "metadata": {},
     "output_type": "display_data"
    }
   ],
   "source": [
    "# 7. Combine and Prepare Summary Data (Pandas)\n",
    "print(\"Merging computed balances with participant data...\")\n",
    "# Convert the Pandas Series to a DataFrame\n",
    "avg_balance_df = avg_balance_series.reset_index()\n",
    "avg_balance_df = avg_balance_df.rename(columns={'availableBalance': 'averageBalance'}) # Use the computed column name\n",
    "\n",
    "# Merge with participants_df\n",
    "if not participants_df.empty:\n",
    "    participant_summary_df = pd.merge(\n",
    "        participants_df,\n",
    "        avg_balance_df,\n",
    "        on='participantId',\n",
    "        how='left' # Keep all participants, assign NaN avg balance if not in logs\n",
    "    )\n",
    "    print(f\"Created participant_summary_df with shape: {participant_summary_df.shape}\")\n",
    "    print(\"Checking for participants missing from logs (NaN averageBalance):\")\n",
    "    print(participant_summary_df['averageBalance'].isnull().sum())\n",
    "    display(participant_summary_df.head())\n",
    "else:\n",
    "    print(\"ERROR: participants_df is empty, cannot merge.\")\n",
    "    participant_summary_df = pd.DataFrame() # Avoid error later\n"
   ]
  },
  {
   "cell_type": "markdown",
   "id": "593278c9",
   "metadata": {},
   "source": []
  },
  {
   "cell_type": "code",
   "execution_count": 12,
   "id": "21485962",
   "metadata": {},
   "outputs": [
    {
     "name": "stderr",
     "output_type": "stream",
     "text": [
      "2025-04-17 20:02:40,734 - INFO - visualize - Plotting average balance distribution and attempting to save to /Users/kozy/_projects/Dataviz-VAST2022/reports/figures/initial_avg_balance_histogram_full_data.png\n",
      "/Users/kozy/miniforge3/envs/dataviz-env/lib/python3.10/site-packages/seaborn/_oldcore.py:1119: FutureWarning: use_inf_as_na option is deprecated and will be removed in a future version. Convert inf values to NaN before operating instead.\n",
      "  with pd.option_context('mode.use_inf_as_na', True):\n"
     ]
    },
    {
     "name": "stdout",
     "output_type": "stream",
     "text": [
      "Plotting distribution of average balances...\n"
     ]
    },
    {
     "name": "stderr",
     "output_type": "stream",
     "text": [
      "2025-04-17 20:02:40,994 - INFO - visualize - Saved balance distribution plot to /Users/kozy/_projects/Dataviz-VAST2022/reports/figures/initial_avg_balance_histogram_full_data.png\n"
     ]
    },
    {
     "name": "stdout",
     "output_type": "stream",
     "text": [
      "Histogram saved to /Users/kozy/_projects/Dataviz-VAST2022/reports/figures/initial_avg_balance_histogram_full_data.png\n"
     ]
    }
   ],
   "source": [
    "# 8. Visualize Distribution (Initial Viz - Problem Finding)\n",
    "if not participant_summary_df.empty:\n",
    "    print(\"Plotting distribution of average balances...\")\n",
    "    figure_path = REPORTS_DIR / 'initial_avg_balance_histogram_full_data.png'\n",
    "    # Call the visualization function\n",
    "    plot_balance_distribution(\n",
    "        participants_summary_df=participant_summary_df,\n",
    "        save_path=figure_path\n",
    "    )\n",
    "    print(f\"Histogram saved to {figure_path}\")\n",
    "    # Display the plot if needed (function might close it)\n",
    "    # from IPython.display import Image\n",
    "    # display(Image(filename=figure_path))\n",
    "else:\n",
    "    print(\"Skipping visualization as participant_summary_df is empty.\")\n"
   ]
  },
  {
   "cell_type": "code",
   "execution_count": 14,
   "id": "d12cc4b8",
   "metadata": {},
   "outputs": [
    {
     "name": "stderr",
     "output_type": "stream",
     "text": [
      "2025-04-17 20:03:29,047 - INFO - build_features - Assigning financial group based on threshold: 50.0\n",
      "2025-04-17 20:03:29,050 - INFO - build_features - Financial group counts:\n",
      "financialGroup\n",
      "Other    1011\n",
      "Name: count, dtype: int64\n"
     ]
    },
    {
     "name": "stdout",
     "output_type": "stream",
     "text": [
      "Using financial threshold for 'Low Balance': 50.0\n",
      "\n",
      "Participant summary with financial groups:\n"
     ]
    },
    {
     "data": {
      "text/html": [
       "<div>\n",
       "<style scoped>\n",
       "    .dataframe tbody tr th:only-of-type {\n",
       "        vertical-align: middle;\n",
       "    }\n",
       "\n",
       "    .dataframe tbody tr th {\n",
       "        vertical-align: top;\n",
       "    }\n",
       "\n",
       "    .dataframe thead th {\n",
       "        text-align: right;\n",
       "    }\n",
       "</style>\n",
       "<table border=\"1\" class=\"dataframe\">\n",
       "  <thead>\n",
       "    <tr style=\"text-align: right;\">\n",
       "      <th></th>\n",
       "      <th>participantId</th>\n",
       "      <th>householdSize</th>\n",
       "      <th>haveKids</th>\n",
       "      <th>age</th>\n",
       "      <th>educationLevel</th>\n",
       "      <th>interestGroup</th>\n",
       "      <th>joviality</th>\n",
       "      <th>averageBalance</th>\n",
       "      <th>financialGroup</th>\n",
       "    </tr>\n",
       "  </thead>\n",
       "  <tbody>\n",
       "    <tr>\n",
       "      <th>0</th>\n",
       "      <td>0</td>\n",
       "      <td>3</td>\n",
       "      <td>True</td>\n",
       "      <td>36</td>\n",
       "      <td>HighSchoolOrCollege</td>\n",
       "      <td>H</td>\n",
       "      <td>0.001627</td>\n",
       "      <td>58665.701153</td>\n",
       "      <td>Other</td>\n",
       "    </tr>\n",
       "    <tr>\n",
       "      <th>1</th>\n",
       "      <td>1</td>\n",
       "      <td>3</td>\n",
       "      <td>True</td>\n",
       "      <td>25</td>\n",
       "      <td>HighSchoolOrCollege</td>\n",
       "      <td>B</td>\n",
       "      <td>0.328087</td>\n",
       "      <td>48739.465046</td>\n",
       "      <td>Other</td>\n",
       "    </tr>\n",
       "    <tr>\n",
       "      <th>2</th>\n",
       "      <td>2</td>\n",
       "      <td>3</td>\n",
       "      <td>True</td>\n",
       "      <td>35</td>\n",
       "      <td>HighSchoolOrCollege</td>\n",
       "      <td>A</td>\n",
       "      <td>0.393470</td>\n",
       "      <td>43597.414323</td>\n",
       "      <td>Other</td>\n",
       "    </tr>\n",
       "    <tr>\n",
       "      <th>3</th>\n",
       "      <td>3</td>\n",
       "      <td>3</td>\n",
       "      <td>True</td>\n",
       "      <td>21</td>\n",
       "      <td>HighSchoolOrCollege</td>\n",
       "      <td>I</td>\n",
       "      <td>0.138063</td>\n",
       "      <td>41213.248470</td>\n",
       "      <td>Other</td>\n",
       "    </tr>\n",
       "    <tr>\n",
       "      <th>4</th>\n",
       "      <td>4</td>\n",
       "      <td>3</td>\n",
       "      <td>True</td>\n",
       "      <td>43</td>\n",
       "      <td>Bachelors</td>\n",
       "      <td>H</td>\n",
       "      <td>0.857397</td>\n",
       "      <td>50405.268696</td>\n",
       "      <td>Other</td>\n",
       "    </tr>\n",
       "  </tbody>\n",
       "</table>\n",
       "</div>"
      ],
      "text/plain": [
       "   participantId  householdSize  haveKids  age       educationLevel  \\\n",
       "0              0              3      True   36  HighSchoolOrCollege   \n",
       "1              1              3      True   25  HighSchoolOrCollege   \n",
       "2              2              3      True   35  HighSchoolOrCollege   \n",
       "3              3              3      True   21  HighSchoolOrCollege   \n",
       "4              4              3      True   43            Bachelors   \n",
       "\n",
       "  interestGroup  joviality  averageBalance financialGroup  \n",
       "0             H   0.001627    58665.701153          Other  \n",
       "1             B   0.328087    48739.465046          Other  \n",
       "2             A   0.393470    43597.414323          Other  \n",
       "3             I   0.138063    41213.248470          Other  \n",
       "4             H   0.857397    50405.268696          Other  "
      ]
     },
     "metadata": {},
     "output_type": "display_data"
    },
    {
     "name": "stdout",
     "output_type": "stream",
     "text": [
      "\n",
      "Counts per financial group:\n",
      "financialGroup\n",
      "Other    1011\n",
      "Name: count, dtype: int64\n"
     ]
    }
   ],
   "source": [
    "# 9. Analyze Histogram & Define Financial Group\n",
    "FINANCIAL_THRESHOLD = 50.0 # <<< ADJUST THIS VALUE based on your plot analysis!\n",
    "print(f\"Using financial threshold for 'Low Balance': {FINANCIAL_THRESHOLD}\")\n",
    "\n",
    "# Add the financial group column using the MODIFIED helper function\n",
    "if not participant_summary_df.empty:\n",
    "    # --- MODIFIED CALL ---\n",
    "    # Pass only the summary dataframe and the threshold\n",
    "    participant_summary_df = add_financial_group(\n",
    "        summary_df=participant_summary_df,\n",
    "        threshold=FINANCIAL_THRESHOLD\n",
    "    )\n",
    "    print(\"\\nParticipant summary with financial groups:\")\n",
    "    display(participant_summary_df.head())\n",
    "    print(\"\\nCounts per financial group:\")\n",
    "    print(participant_summary_df['financialGroup'].value_counts())\n",
    "else:\n",
    "     print(\"Skipping group assignment as participant_summary_df is empty.\")\n"
   ]
  },
  {
   "cell_type": "code",
   "execution_count": 15,
   "id": "8bdce227",
   "metadata": {},
   "outputs": [],
   "source": [
    "import pyarrow.parquet as pq"
   ]
  },
  {
   "cell_type": "code",
   "execution_count": 16,
   "id": "715d5abf",
   "metadata": {},
   "outputs": [
    {
     "name": "stdout",
     "output_type": "stream",
     "text": [
      "Successfully saved primary data to /Users/kozy/_projects/Dataviz-VAST2022/data/03_primary/participant_summary_full.parquet\n"
     ]
    }
   ],
   "source": [
    "# 10. Save Primary Data\n",
    "# Save the enriched participant summary DataFrame. This is the key input for the next stage (targeted analysis and visualization). Use Parquet for efficiency.\n",
    "if not participant_summary_df.empty:\n",
    "    primary_data_path = PRIMARY_DATA_DIR / 'participant_summary_full.parquet' # Use parquet\n",
    "    try:\n",
    "        participant_summary_df.to_parquet(primary_data_path, index=False)\n",
    "        print(f\"Successfully saved primary data to {primary_data_path}\")\n",
    "    except Exception as e:\n",
    "        print(f\"ERROR saving primary data: {e}\")\n",
    "else:\n",
    "    print(\"Skipping saving primary data as the DataFrame is empty.\")\n"
   ]
  },
  {
   "cell_type": "markdown",
   "id": "9a48cfae",
   "metadata": {},
   "source": [
    "# 11. Problem Identification & Next Steps\n",
    "\n",
    " **Summary of Findings:**\n",
    " - We successfully calculated the average `availableBalance` per participant using the entire dataset via Dask.\n",
    " - The histogram (saved in `reports/figures/`) shows the distribution of these average balances.\n",
    " - **Based on the histogram, we observed [DESCRIBE OBSERVATION - e.g., a significant number of participants below $X, a bimodal distribution, etc.].**\n",
    " - We defined a 'Low Balance' group using a threshold of `$FINANCIAL_THRESHOLD`. Approximately [X]% of participants fall into this group.\n",
    "\n",
    " **Refined Question:**\n",
    " How do the daily spatial, temporal, and financial patterns (spending, income timing, activity locations, time allocation) of the identified 'Low Balance' group differ from the 'Other' group over the full 15-month study period?\n",
    "\n",
    " **Next Steps:**\n",
    " - Use the saved `participant_summary_full.parquet` file.\n",
    " - Develop targeted visualizations (Notebook 04 or scripts in `src/visualization/`) comparing the 'Low Balance' and 'Other' groups. This will likely involve loading log/journal data again (potentially using Dask or targeted loading) for participants in these specific groups.\n"
   ]
  },
  {
   "cell_type": "code",
   "execution_count": 17,
   "id": "09de1db8",
   "metadata": {},
   "outputs": [
    {
     "name": "stdout",
     "output_type": "stream",
     "text": [
      "Shutting down Dask client and cluster...\n",
      "Dask client and cluster closed.\n"
     ]
    }
   ],
   "source": [
    "print(\"Shutting down Dask client and cluster...\")\n",
    "try:\n",
    "    client.close()\n",
    "    cluster.close()\n",
    "    print(\"Dask client and cluster closed.\")\n",
    "except NameError:\n",
    "    print(\"Dask client/cluster was not initialized or already closed.\")\n",
    "except Exception as e:\n",
    "    print(f\"Error closing Dask client/cluster: {e}\")"
   ]
  }
 ],
 "metadata": {
  "kernelspec": {
   "display_name": "dataviz-env",
   "language": "python",
   "name": "python3"
  },
  "language_info": {
   "codemirror_mode": {
    "name": "ipython",
    "version": 3
   },
   "file_extension": ".py",
   "mimetype": "text/x-python",
   "name": "python",
   "nbconvert_exporter": "python",
   "pygments_lexer": "ipython3",
   "version": "3.10.13"
  }
 },
 "nbformat": 4,
 "nbformat_minor": 5
}
