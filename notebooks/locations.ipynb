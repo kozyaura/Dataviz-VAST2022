{
 "cells": [
  {
   "cell_type": "code",
   "execution_count": 5,
   "id": "f0a073e0",
   "metadata": {},
   "outputs": [],
   "source": [
    "import pandas as pd\n",
    "\n",
    "apartments = pd.read_csv('../data/raw/Attributes/Apartments.csv')\n",
    "employers = pd.read_csv('../data/raw/Attributes/employers.csv')\n",
    "pubs = pd.read_csv('../data/raw/Attributes/Pubs.csv')\n",
    "restaurants = pd.read_csv('../data/raw/Attributes/Restaurants.csv')\n",
    "schools = pd.read_csv('../data/raw/Attributes/Schools.csv')"
   ]
  },
  {
   "cell_type": "code",
   "execution_count": 6,
   "id": "3c74f089",
   "metadata": {},
   "outputs": [],
   "source": [
    "apt = apartments[['apartmentId', 'location', 'buildingId']].copy().rename(columns={\"apartmentId\":\"id\"})\n",
    "apt['location'] = apt['location'].str[7:-1].apply(lambda x: x.split(' ')).apply(lambda x: [float(z) for z in x])\n",
    "apt['buildingType'] = 'apartment'\n",
    "apt = apt.reindex(['buildingType', 'id', 'buildingId', 'location'], axis=1)\n"
   ]
  },
  {
   "cell_type": "code",
   "execution_count": 7,
   "id": "c93c0e84",
   "metadata": {},
   "outputs": [],
   "source": [
    "emp = employers[['employerId', 'location', 'buildingId']].copy().rename(columns={\"employerId\":\"id\"})\n",
    "emp['location'] = emp['location'].str[7:-1].apply(lambda x: x.split(' ')).apply(lambda x: [float(z) for z in x])\n",
    "emp['buildingType'] = 'employer'\n",
    "emp = emp.reindex(['buildingType', 'id', 'buildingId', 'location'], axis=1)\n"
   ]
  },
  {
   "cell_type": "code",
   "execution_count": 8,
   "id": "a4be350f",
   "metadata": {},
   "outputs": [],
   "source": [
    "pub = pubs[['pubId', 'location', 'buildingId']].copy().rename(columns={\"pubId\":\"id\"})\n",
    "pub['location'] = pub['location'].str[7:-1].apply(lambda x: x.split(' ')).apply(lambda x: [float(z) for z in x])\n",
    "pub['buildingType'] = 'pub'\n",
    "pub = pub.reindex(['buildingType', 'id', 'buildingId', 'location'], axis=1)\n"
   ]
  },
  {
   "cell_type": "code",
   "execution_count": 9,
   "id": "f4ab2132",
   "metadata": {},
   "outputs": [],
   "source": [
    "rest = restaurants[['restaurantId', 'location', 'buildingId']].copy().rename(columns={\"restaurantId\":\"id\"})\n",
    "rest['location'] = rest['location'].str[7:-1].apply(lambda x: x.split(' ')).apply(lambda x: [float(z) for z in x])\n",
    "rest['buildingType'] = 'restaurant'\n",
    "rest = rest.reindex(['buildingType', 'id', 'buildingId', 'location'], axis=1)\n"
   ]
  },
  {
   "cell_type": "code",
   "execution_count": 10,
   "id": "176c3417",
   "metadata": {},
   "outputs": [],
   "source": [
    "sch = schools[['schoolId', 'location', 'buildingId']].copy().rename(columns={\"schoolId\":\"id\"})\n",
    "sch['location'] = sch['location'].str[7:-1].apply(lambda x: x.split(' ')).apply(lambda x: [float(z) for z in x])\n",
    "sch['buildingType'] = 'school'\n",
    "sch = sch.reindex(['buildingType', 'id', 'buildingId', 'location'], axis=1)\n"
   ]
  },
  {
   "cell_type": "code",
   "execution_count": 11,
   "id": "33becad7",
   "metadata": {},
   "outputs": [],
   "source": [
    "centers = pd.concat([apt, emp, pub, rest, sch], ignore_index=True)\n",
    "centers.to_json('../data/interim/location_points.json', orient='records')"
   ]
  }
 ],
 "metadata": {
  "kernelspec": {
   "display_name": "dataviz-env",
   "language": "python",
   "name": "python3"
  },
  "language_info": {
   "codemirror_mode": {
    "name": "ipython",
    "version": 3
   },
   "file_extension": ".py",
   "mimetype": "text/x-python",
   "name": "python",
   "nbconvert_exporter": "python",
   "pygments_lexer": "ipython3",
   "version": "3.10.13"
  }
 },
 "nbformat": 4,
 "nbformat_minor": 5
}
